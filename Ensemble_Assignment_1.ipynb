{
 "cells": [
  {
   "cell_type": "markdown",
   "id": "28893b5e-5758-4c7f-8a84-153a4e896234",
   "metadata": {},
   "source": [
    "Q1. What is an ensemble technique in machine learning?\n",
    "\n",
    "Answer: An ensemble technique in machine learning combines multiple models to improve prediction accuracy by leveraging their collective wisdom and reducing individual model biases."
   ]
  },
  {
   "cell_type": "markdown",
   "id": "b0403039-c2b0-4f4a-a90a-8b7abedfacd2",
   "metadata": {},
   "source": [
    "Q2. Why are ensemble techniques used in machine learning in 25 words\n",
    "\n",
    "Answer: Ensemble techniques are used in machine learning to enhance prediction performance, increase model robustness, and handle complex data patterns by combining multiple models' predictions."
   ]
  },
  {
   "cell_type": "markdown",
   "id": "8e43c499-a58c-4dcb-b54e-953105ecee08",
   "metadata": {},
   "source": [
    "Q3. What is bagging in 25 words?\n",
    "\n",
    "Answer: Bagging (Bootstrap Aggregating) is an ensemble technique in machine learning that involves creating multiple bootstrap samples from the training data and training separate models on each sample to make predictions."
   ]
  },
  {
   "cell_type": "markdown",
   "id": "182cc304-c40f-408f-a376-14b22e71464f",
   "metadata": {},
   "source": [
    "Q4. What is boosting in 25 words\n",
    "\n",
    "Answer: Boosting is an ensemble technique in machine learning where multiple models are trained sequentially, with each subsequent model focusing on improving the performance of the previous models by emphasizing misclassified instances."
   ]
  },
  {
   "cell_type": "markdown",
   "id": "57ba94d3-906f-41c6-accc-a8b74c40de54",
   "metadata": {},
   "source": [
    "Q5. What are the benefits of using ensemble techniques in 25 words?\n",
    "\n",
    "Answer: Using ensemble techniques in machine learning can lead to improved prediction accuracy, increased model robustness, better handling of complex data patterns, and reduced overfitting."
   ]
  },
  {
   "cell_type": "markdown",
   "id": "2ef102f2-b968-4da5-952b-50668ab2048d",
   "metadata": {},
   "source": [
    "Q6. Are ensemble techniques always better than individual models in 25 words?\n",
    "\n",
    "Answer: Ensemble techniques are not always better than individual models. Their effectiveness depends on data characteristics, model diversity, and the specific problem at hand."
   ]
  },
  {
   "cell_type": "markdown",
   "id": "d309cce0-99ba-47a7-8345-5f2c9b948c25",
   "metadata": {},
   "source": [
    "Q7. How is the confidence interval calculated using bootstrap in 25 words?\n",
    "\n",
    "Answer: To calculate a confidence interval using bootstrap, repeatedly resample the dataset, calculate the desired statistic on each resampled dataset, and estimate the interval from the resulting distribution of statistics."
   ]
  },
  {
   "cell_type": "markdown",
   "id": "ce0cf566-ef78-46fc-b59f-547878456db3",
   "metadata": {},
   "source": [
    "Q8. How does bootstrap work and What are the steps involved in bootstrap in 25 words\n",
    "\n",
    "Answer: Bootstrap works by repeatedly resampling the dataset with replacement, estimating the statistic of interest on each sample, and using the distribution of statistics to make inferences about the population. The steps involved are: \n",
    "1. Randomly draw a sample with replacement from the original dataset.\n",
    "2. Calculate the desired statistic on the bootstrap sample.\n",
    "3. Repeat steps 1 and 2 many times to create a distribution of statistics.\n",
    "4. Use the distribution to estimate confidence intervals or make other statistical inferences."
   ]
  },
  {
   "cell_type": "markdown",
   "id": "8c2877ce-9b45-49a7-82fc-bcba25c359fa",
   "metadata": {},
   "source": [
    "Q9. A researcher wants to estimate the mean height of a population of trees. They measure the height of a \n",
    "sample of 50 trees and obtain a mean height of 15 meters and a standard deviation of 2 meters. Use \n",
    "bootstrap to estimate the 95% confidence interval for the population mean height\n",
    "\n",
    "Answer: To estimate the 95% confidence interval for the population mean height using bootstrap, the researcher can follow these steps:\n",
    "\n",
    "1. Randomly sample, with replacement, 50 heights from the original sample of 50 trees.\n",
    "2. Calculate the mean height of the bootstrap sample.\n",
    "3. Repeat steps 1 and 2 a large number of times (e.g., 1000 or more) to create a distribution of bootstrap sample means.\n",
    "4. Sort the distribution of bootstrap sample means.\n",
    "5. Calculate the lower and upper percentiles to determine the 95% confidence interval. For a 95% confidence interval, the lower percentile would be the 2.5th percentile, and the upper percentile would be the 97.5th percentile of the sorted distribution.\n",
    "6. The resulting range of heights from the lower to the upper percentile will represent the estimated 95% confidence interval for the population mean height."
   ]
  },
  {
   "cell_type": "code",
   "execution_count": null,
   "id": "4289b52f-38f6-442b-a93d-6907f5480426",
   "metadata": {},
   "outputs": [],
   "source": []
  }
 ],
 "metadata": {
  "kernelspec": {
   "display_name": "Python 3 (ipykernel)",
   "language": "python",
   "name": "python3"
  },
  "language_info": {
   "codemirror_mode": {
    "name": "ipython",
    "version": 3
   },
   "file_extension": ".py",
   "mimetype": "text/x-python",
   "name": "python",
   "nbconvert_exporter": "python",
   "pygments_lexer": "ipython3",
   "version": "3.10.8"
  }
 },
 "nbformat": 4,
 "nbformat_minor": 5
}
